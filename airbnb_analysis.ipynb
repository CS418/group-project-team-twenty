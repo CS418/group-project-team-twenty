{
 "cells": [
  {
   "cell_type": "markdown",
   "id": "ce77c1a7",
   "metadata": {},
   "source": [
    "# Data Cleaning : Airbnb Listings\n",
    "In this notebook we are going to deal with data from a well-known residential rental application, Airbnb. Specifically, the data for the Chicago area for 3 months of 2023 (January, February and March)."
   ]
  },
  {
   "cell_type": "code",
   "execution_count": null,
   "id": "20594e5a",
   "metadata": {},
   "outputs": [],
   "source": [
    "#Harishobith"
   ]
  },
  {
   "cell_type": "code",
   "execution_count": 1,
   "id": "40b066da",
   "metadata": {},
   "outputs": [],
   "source": [
    "#Importing the necessary libraries\n",
    "import numpy as np\n",
    "import pandas as pd"
   ]
  },
  {
   "cell_type": "code",
   "execution_count": 2,
   "id": "00053fca",
   "metadata": {},
   "outputs": [],
   "source": [
    "# reading the csv files\n",
    "listings_df = pd.read_csv(\"listings.csv\")\n",
    "reviews_df = pd.read_csv(\"reviews.csv\")"
   ]
  },
  {
   "cell_type": "markdown",
   "id": "4d2bfb6b",
   "metadata": {},
   "source": [
    "## Data Cleaning : Listings.csv\n",
    "1. We drop any entries that are missing (NaN) values.\n",
    "2. We also drop any entries that are inconsistent such as price with a value of 0."
   ]
  },
  {
   "cell_type": "code",
   "execution_count": 3,
   "id": "f8e2ca55",
   "metadata": {},
   "outputs": [
    {
     "name": "stdout",
     "output_type": "stream",
     "text": [
      "(7747, 18)\n",
      "<class 'pandas.core.frame.DataFrame'>\n",
      "RangeIndex: 7747 entries, 0 to 7746\n",
      "Data columns (total 18 columns):\n",
      " #   Column                          Non-Null Count  Dtype  \n",
      "---  ------                          --------------  -----  \n",
      " 0   id                              7747 non-null   int64  \n",
      " 1   name                            7747 non-null   object \n",
      " 2   host_id                         7747 non-null   int64  \n",
      " 3   host_name                       7747 non-null   object \n",
      " 4   neighbourhood_group             0 non-null      float64\n",
      " 5   neighbourhood                   7747 non-null   object \n",
      " 6   latitude                        7747 non-null   float64\n",
      " 7   longitude                       7747 non-null   float64\n",
      " 8   room_type                       7747 non-null   object \n",
      " 9   price                           7747 non-null   int64  \n",
      " 10  minimum_nights                  7747 non-null   int64  \n",
      " 11  number_of_reviews               7747 non-null   int64  \n",
      " 12  last_review                     6254 non-null   object \n",
      " 13  reviews_per_month               6254 non-null   float64\n",
      " 14  calculated_host_listings_count  7747 non-null   int64  \n",
      " 15  availability_365                7747 non-null   int64  \n",
      " 16  number_of_reviews_ltm           7747 non-null   int64  \n",
      " 17  license                         6573 non-null   object \n",
      "dtypes: float64(4), int64(8), object(6)\n",
      "memory usage: 1.1+ MB\n"
     ]
    }
   ],
   "source": [
    "print(listings_df.shape)\n",
    "listings_df.info()"
   ]
  },
  {
   "cell_type": "code",
   "execution_count": 4,
   "id": "29332474",
   "metadata": {},
   "outputs": [
    {
     "name": "stdout",
     "output_type": "stream",
     "text": [
      "id, Number of Missing Values: 0\n",
      "name, Number of Missing Values: 0\n",
      "host_id, Number of Missing Values: 0\n",
      "host_name, Number of Missing Values: 0\n",
      "neighbourhood_group, Number of Missing Values: 7747\n",
      "neighbourhood, Number of Missing Values: 0\n",
      "latitude, Number of Missing Values: 0\n",
      "longitude, Number of Missing Values: 0\n",
      "room_type, Number of Missing Values: 0\n",
      "price, Number of Missing Values: 0\n",
      "minimum_nights, Number of Missing Values: 0\n",
      "number_of_reviews, Number of Missing Values: 0\n",
      "last_review, Number of Missing Values: 1493\n",
      "reviews_per_month, Number of Missing Values: 1493\n",
      "calculated_host_listings_count, Number of Missing Values: 0\n",
      "availability_365, Number of Missing Values: 0\n",
      "number_of_reviews_ltm, Number of Missing Values: 0\n",
      "license, Number of Missing Values: 1174\n"
     ]
    }
   ],
   "source": [
    "# determine the number of missing entries in each column of Listings.csv\n",
    "for col in listings_df.columns:\n",
    "    print (col + ', Number of Missing Values:', len(listings_df[col][listings_df[col].isnull()]))"
   ]
  },
  {
   "cell_type": "markdown",
   "id": "4b2e63ca",
   "metadata": {},
   "source": [
    "#### According to the above output, neighbourhood_group, last_review, reviews_per_month, and license columns have missing values."
   ]
  },
  {
   "cell_type": "code",
   "execution_count": 5,
   "id": "3464213f",
   "metadata": {},
   "outputs": [
    {
     "name": "stdout",
     "output_type": "stream",
     "text": [
      "neighbourhood_group has all NaN values\n"
     ]
    }
   ],
   "source": [
    "# Checking whether this column has only null values\n",
    "if listings_df['neighbourhood_group'].isna().all():\n",
    "    print(\"neighbourhood_group has all NaN values\")\n",
    "else:\n",
    "    print(\"neighbourhood_group does not have all NaN values\")"
   ]
  },
  {
   "cell_type": "code",
   "execution_count": 6,
   "id": "af0ec573",
   "metadata": {},
   "outputs": [],
   "source": [
    "# As neighbourhood_group has only null values and cannot be replaced with any other values, so this column has to be dropped.\n",
    "listings_df.drop('neighbourhood_group', axis = 1, inplace = True)\n",
    "#listings_df.to_csv('listings.csv', index=False)"
   ]
  },
  {
   "cell_type": "code",
   "execution_count": 7,
   "id": "d204508a",
   "metadata": {},
   "outputs": [
    {
     "name": "stdout",
     "output_type": "stream",
     "text": [
      "Number of Listings with Price $0.00: 2\n"
     ]
    }
   ],
   "source": [
    "#Let's check whether there are any listings with price 0.00 (inconsistent values)\n",
    "print ('Number of Listings with Price $0.00:', len(listings_df[listings_df['price'] == 0.00]))"
   ]
  },
  {
   "cell_type": "code",
   "execution_count": 8,
   "id": "6e746cb5",
   "metadata": {},
   "outputs": [
    {
     "name": "stdout",
     "output_type": "stream",
     "text": [
      "Number of Listings with Price $0.00: 0\n"
     ]
    }
   ],
   "source": [
    "#As there are two listings with price 0.00, let's drop those two listings.\n",
    "listings_df = listings_df[listings_df['price'] != 0.00]\n",
    "print ('Number of Listings with Price $0.00:', len(listings_df[listings_df['price'] == 0.00]))"
   ]
  },
  {
   "cell_type": "code",
   "execution_count": 9,
   "id": "7d9d7b0f",
   "metadata": {},
   "outputs": [],
   "source": [
    "# Then, let's drop all the records with null values as the missing values for last_review, reviews_per_month and license columns cannot be replaced with any other values.\n",
    "listings_df = listings_df.dropna()"
   ]
  },
  {
   "cell_type": "code",
   "execution_count": 10,
   "id": "6a0b4ea1",
   "metadata": {},
   "outputs": [
    {
     "name": "stdout",
     "output_type": "stream",
     "text": [
      "id, Number of Missing Values: 0\n",
      "name, Number of Missing Values: 0\n",
      "host_id, Number of Missing Values: 0\n",
      "host_name, Number of Missing Values: 0\n",
      "neighbourhood, Number of Missing Values: 0\n",
      "latitude, Number of Missing Values: 0\n",
      "longitude, Number of Missing Values: 0\n",
      "room_type, Number of Missing Values: 0\n",
      "price, Number of Missing Values: 0\n",
      "minimum_nights, Number of Missing Values: 0\n",
      "number_of_reviews, Number of Missing Values: 0\n",
      "last_review, Number of Missing Values: 0\n",
      "reviews_per_month, Number of Missing Values: 0\n",
      "calculated_host_listings_count, Number of Missing Values: 0\n",
      "availability_365, Number of Missing Values: 0\n",
      "number_of_reviews_ltm, Number of Missing Values: 0\n",
      "license, Number of Missing Values: 0\n"
     ]
    }
   ],
   "source": [
    "for col in listings_df.columns:\n",
    "    print (col + ', Number of Missing Values:', len(listings_df[col][listings_df[col].isnull()]))"
   ]
  },
  {
   "cell_type": "code",
   "execution_count": 11,
   "id": "b3208430",
   "metadata": {},
   "outputs": [
    {
     "data": {
      "text/plain": [
       "(5888, 17)"
      ]
     },
     "execution_count": 11,
     "metadata": {},
     "output_type": "execute_result"
    }
   ],
   "source": [
    "listings_df.shape"
   ]
  },
  {
   "cell_type": "markdown",
   "id": "e0797c44",
   "metadata": {},
   "source": [
    "#### Our dataset is now clean and we no longer have any missing values or inconsistent values. We have a total of 5888 records from the original 7747; thus, we've retained a reasonable amount of records. "
   ]
  },
  {
   "cell_type": "markdown",
   "id": "6f4d0bb6",
   "metadata": {},
   "source": [
    "## Data Cleaning : Reviews.csv"
   ]
  },
  {
   "cell_type": "code",
   "execution_count": 12,
   "id": "036eb417",
   "metadata": {},
   "outputs": [
    {
     "name": "stdout",
     "output_type": "stream",
     "text": [
      "(345939, 6)\n",
      "<class 'pandas.core.frame.DataFrame'>\n",
      "RangeIndex: 345939 entries, 0 to 345938\n",
      "Data columns (total 6 columns):\n",
      " #   Column         Non-Null Count   Dtype \n",
      "---  ------         --------------   ----- \n",
      " 0   listing_id     345939 non-null  int64 \n",
      " 1   id             345939 non-null  int64 \n",
      " 2   date           345939 non-null  object\n",
      " 3   reviewer_id    345939 non-null  int64 \n",
      " 4   reviewer_name  345939 non-null  object\n",
      " 5   comments       345847 non-null  object\n",
      "dtypes: int64(3), object(3)\n",
      "memory usage: 15.8+ MB\n"
     ]
    }
   ],
   "source": [
    "print(reviews_df.shape)\n",
    "reviews_df.info()"
   ]
  },
  {
   "cell_type": "code",
   "execution_count": 13,
   "id": "6295fb86",
   "metadata": {},
   "outputs": [
    {
     "name": "stdout",
     "output_type": "stream",
     "text": [
      "listing_id, Number of Missing Values: 0\n",
      "id, Number of Missing Values: 0\n",
      "date, Number of Missing Values: 0\n",
      "reviewer_id, Number of Missing Values: 0\n",
      "reviewer_name, Number of Missing Values: 0\n",
      "comments, Number of Missing Values: 92\n"
     ]
    }
   ],
   "source": [
    "# determine the number of missing entries in each column of reviews.csv\n",
    "for col in reviews_df.columns:\n",
    "    print (col + ', Number of Missing Values:', len(reviews_df[col][reviews_df[col].isnull()]))"
   ]
  },
  {
   "cell_type": "markdown",
   "id": "c5f4ad7a",
   "metadata": {},
   "source": [
    "#### According to the above output, only comments column has 92 missing values and these missing values cannot be replaced by any other values. Hence, the rows with missing values has to be dropped."
   ]
  },
  {
   "cell_type": "code",
   "execution_count": 14,
   "id": "d8a8ac90",
   "metadata": {},
   "outputs": [
    {
     "data": {
      "text/plain": [
       "(345847, 6)"
      ]
     },
     "execution_count": 14,
     "metadata": {},
     "output_type": "execute_result"
    }
   ],
   "source": [
    "reviews_df = reviews_df.dropna()\n",
    "reviews_df.shape"
   ]
  },
  {
   "cell_type": "code",
   "execution_count": 15,
   "id": "f3bb58db",
   "metadata": {},
   "outputs": [
    {
     "name": "stdout",
     "output_type": "stream",
     "text": [
      "listing_id, Number of Missing Values: 0\n",
      "id, Number of Missing Values: 0\n",
      "date, Number of Missing Values: 0\n",
      "reviewer_id, Number of Missing Values: 0\n",
      "reviewer_name, Number of Missing Values: 0\n",
      "comments, Number of Missing Values: 0\n"
     ]
    }
   ],
   "source": [
    "for col in reviews_df.columns:\n",
    "    print (col + ', Number of Missing Values:', len(reviews_df[col][reviews_df[col].isnull()]))"
   ]
  },
  {
   "cell_type": "markdown",
   "id": "52d2725d",
   "metadata": {},
   "source": [
    "#### Reviews dataset doesn't have any missing values. Hence Reviews dataset has been cleaned successfully."
   ]
  },
  {
   "cell_type": "code",
   "execution_count": 16,
   "id": "14260137",
   "metadata": {},
   "outputs": [
    {
     "data": {
      "text/html": [
       "<div>\n",
       "<style scoped>\n",
       "    .dataframe tbody tr th:only-of-type {\n",
       "        vertical-align: middle;\n",
       "    }\n",
       "\n",
       "    .dataframe tbody tr th {\n",
       "        vertical-align: top;\n",
       "    }\n",
       "\n",
       "    .dataframe thead th {\n",
       "        text-align: right;\n",
       "    }\n",
       "</style>\n",
       "<table border=\"1\" class=\"dataframe\">\n",
       "  <thead>\n",
       "    <tr style=\"text-align: right;\">\n",
       "      <th></th>\n",
       "      <th>listing_id</th>\n",
       "      <th>name</th>\n",
       "      <th>host_id</th>\n",
       "      <th>host_name</th>\n",
       "      <th>neighbourhood</th>\n",
       "      <th>latitude</th>\n",
       "      <th>longitude</th>\n",
       "      <th>room_type</th>\n",
       "      <th>price</th>\n",
       "      <th>minimum_nights</th>\n",
       "      <th>number_of_reviews</th>\n",
       "      <th>last_review</th>\n",
       "      <th>reviews_per_month</th>\n",
       "      <th>calculated_host_listings_count</th>\n",
       "      <th>availability_365</th>\n",
       "      <th>number_of_reviews_ltm</th>\n",
       "      <th>license</th>\n",
       "    </tr>\n",
       "  </thead>\n",
       "  <tbody>\n",
       "    <tr>\n",
       "      <th>0</th>\n",
       "      <td>2384</td>\n",
       "      <td>Hyde Park - Walk to UChicago</td>\n",
       "      <td>2613</td>\n",
       "      <td>Rebecca</td>\n",
       "      <td>Hyde Park</td>\n",
       "      <td>41.78790</td>\n",
       "      <td>-87.58780</td>\n",
       "      <td>Private room</td>\n",
       "      <td>90</td>\n",
       "      <td>3</td>\n",
       "      <td>212</td>\n",
       "      <td>2023-03-04</td>\n",
       "      <td>2.13</td>\n",
       "      <td>1</td>\n",
       "      <td>347</td>\n",
       "      <td>20</td>\n",
       "      <td>R17000015609</td>\n",
       "    </tr>\n",
       "    <tr>\n",
       "      <th>1</th>\n",
       "      <td>94450</td>\n",
       "      <td>Comfy Garden Suite in Andersonville</td>\n",
       "      <td>504470</td>\n",
       "      <td>Mark</td>\n",
       "      <td>Edgewater</td>\n",
       "      <td>41.97960</td>\n",
       "      <td>-87.66512</td>\n",
       "      <td>Entire home/apt</td>\n",
       "      <td>65</td>\n",
       "      <td>7</td>\n",
       "      <td>7</td>\n",
       "      <td>2022-12-01</td>\n",
       "      <td>0.88</td>\n",
       "      <td>1</td>\n",
       "      <td>178</td>\n",
       "      <td>7</td>\n",
       "      <td>R22000082956</td>\n",
       "    </tr>\n",
       "    <tr>\n",
       "      <th>2</th>\n",
       "      <td>145659</td>\n",
       "      <td>Trendy Roscoe Village 3BR/2BR walk to shops</td>\n",
       "      <td>683529</td>\n",
       "      <td>Joe</td>\n",
       "      <td>North Center</td>\n",
       "      <td>41.94342</td>\n",
       "      <td>-87.68121</td>\n",
       "      <td>Entire home/apt</td>\n",
       "      <td>198</td>\n",
       "      <td>2</td>\n",
       "      <td>59</td>\n",
       "      <td>2022-12-31</td>\n",
       "      <td>0.65</td>\n",
       "      <td>22</td>\n",
       "      <td>330</td>\n",
       "      <td>15</td>\n",
       "      <td>2209272</td>\n",
       "    </tr>\n",
       "    <tr>\n",
       "      <th>3</th>\n",
       "      <td>7126</td>\n",
       "      <td>Tiny Studio Apartment 94 Walk Score</td>\n",
       "      <td>17928</td>\n",
       "      <td>Sarah</td>\n",
       "      <td>West Town</td>\n",
       "      <td>41.90166</td>\n",
       "      <td>-87.68021</td>\n",
       "      <td>Entire home/apt</td>\n",
       "      <td>85</td>\n",
       "      <td>2</td>\n",
       "      <td>483</td>\n",
       "      <td>2023-02-26</td>\n",
       "      <td>2.89</td>\n",
       "      <td>1</td>\n",
       "      <td>279</td>\n",
       "      <td>48</td>\n",
       "      <td>R21000075737</td>\n",
       "    </tr>\n",
       "    <tr>\n",
       "      <th>4</th>\n",
       "      <td>189821</td>\n",
       "      <td>Best in Chicago, private, amazing garden space</td>\n",
       "      <td>899757</td>\n",
       "      <td>Meighan</td>\n",
       "      <td>Logan Square</td>\n",
       "      <td>41.92918</td>\n",
       "      <td>-87.70219</td>\n",
       "      <td>Entire home/apt</td>\n",
       "      <td>202</td>\n",
       "      <td>3</td>\n",
       "      <td>598</td>\n",
       "      <td>2023-02-25</td>\n",
       "      <td>4.27</td>\n",
       "      <td>1</td>\n",
       "      <td>207</td>\n",
       "      <td>24</td>\n",
       "      <td>R21000062936</td>\n",
       "    </tr>\n",
       "  </tbody>\n",
       "</table>\n",
       "</div>"
      ],
      "text/plain": [
       "   listing_id                                            name  host_id  \\\n",
       "0        2384                    Hyde Park - Walk to UChicago     2613   \n",
       "1       94450             Comfy Garden Suite in Andersonville   504470   \n",
       "2      145659     Trendy Roscoe Village 3BR/2BR walk to shops   683529   \n",
       "3        7126             Tiny Studio Apartment 94 Walk Score    17928   \n",
       "4      189821  Best in Chicago, private, amazing garden space   899757   \n",
       "\n",
       "  host_name neighbourhood  latitude  longitude        room_type  price  \\\n",
       "0   Rebecca     Hyde Park  41.78790  -87.58780     Private room     90   \n",
       "1      Mark     Edgewater  41.97960  -87.66512  Entire home/apt     65   \n",
       "2       Joe  North Center  41.94342  -87.68121  Entire home/apt    198   \n",
       "3     Sarah     West Town  41.90166  -87.68021  Entire home/apt     85   \n",
       "4   Meighan  Logan Square  41.92918  -87.70219  Entire home/apt    202   \n",
       "\n",
       "   minimum_nights  number_of_reviews last_review  reviews_per_month  \\\n",
       "0               3                212  2023-03-04               2.13   \n",
       "1               7                  7  2022-12-01               0.88   \n",
       "2               2                 59  2022-12-31               0.65   \n",
       "3               2                483  2023-02-26               2.89   \n",
       "4               3                598  2023-02-25               4.27   \n",
       "\n",
       "   calculated_host_listings_count  availability_365  number_of_reviews_ltm  \\\n",
       "0                               1               347                     20   \n",
       "1                               1               178                      7   \n",
       "2                              22               330                     15   \n",
       "3                               1               279                     48   \n",
       "4                               1               207                     24   \n",
       "\n",
       "        license  \n",
       "0  R17000015609  \n",
       "1  R22000082956  \n",
       "2       2209272  \n",
       "3  R21000075737  \n",
       "4  R21000062936  "
      ]
     },
     "execution_count": 16,
     "metadata": {},
     "output_type": "execute_result"
    }
   ],
   "source": [
    "#Renaming the \"id\" column name of the listings dataframe so that it has the same name as the \"listing_id\" column of reviews dataframe.\n",
    "listings_df = listings_df.rename(columns={'id': 'listing_id'})\n",
    "listings_df.head()"
   ]
  },
  {
   "cell_type": "markdown",
   "id": "47833b25",
   "metadata": {},
   "source": [
    "### Merging the two dataframes"
   ]
  },
  {
   "cell_type": "code",
   "execution_count": 19,
   "id": "1367bd53",
   "metadata": {},
   "outputs": [
    {
     "name": "stdout",
     "output_type": "stream",
     "text": [
      "<class 'pandas.core.frame.DataFrame'>\n",
      "Int64Index: 328458 entries, 0 to 328457\n",
      "Data columns (total 22 columns):\n",
      " #   Column                          Non-Null Count   Dtype  \n",
      "---  ------                          --------------   -----  \n",
      " 0   listing_id                      328458 non-null  int64  \n",
      " 1   name                            328458 non-null  object \n",
      " 2   host_id                         328458 non-null  int64  \n",
      " 3   host_name                       328458 non-null  object \n",
      " 4   neighbourhood                   328458 non-null  object \n",
      " 5   latitude                        328458 non-null  float64\n",
      " 6   longitude                       328458 non-null  float64\n",
      " 7   room_type                       328458 non-null  object \n",
      " 8   price                           328458 non-null  int64  \n",
      " 9   minimum_nights                  328458 non-null  int64  \n",
      " 10  number_of_reviews               328458 non-null  int64  \n",
      " 11  last_review                     328458 non-null  object \n",
      " 12  reviews_per_month               328458 non-null  float64\n",
      " 13  calculated_host_listings_count  328458 non-null  int64  \n",
      " 14  availability_365                328458 non-null  int64  \n",
      " 15  number_of_reviews_ltm           328458 non-null  int64  \n",
      " 16  license                         328458 non-null  object \n",
      " 17  id                              328458 non-null  int64  \n",
      " 18  date                            328458 non-null  object \n",
      " 19  reviewer_id                     328458 non-null  int64  \n",
      " 20  reviewer_name                   328458 non-null  object \n",
      " 21  comments                        328458 non-null  object \n",
      "dtypes: float64(3), int64(10), object(9)\n",
      "memory usage: 57.6+ MB\n"
     ]
    }
   ],
   "source": [
    "# Merging the two dataframes with the common column \"listing_id\".\n",
    "merged_df = pd.merge(listings_df, reviews_df, on='listing_id')\n",
    "merged_df.info()"
   ]
  }
 ],
 "metadata": {
  "kernelspec": {
   "display_name": "Python 3 (ipykernel)",
   "language": "python",
   "name": "python3"
  },
  "language_info": {
   "codemirror_mode": {
    "name": "ipython",
    "version": 3
   },
   "file_extension": ".py",
   "mimetype": "text/x-python",
   "name": "python",
   "nbconvert_exporter": "python",
   "pygments_lexer": "ipython3",
   "version": "3.9.13"
  }
 },
 "nbformat": 4,
 "nbformat_minor": 5
}
